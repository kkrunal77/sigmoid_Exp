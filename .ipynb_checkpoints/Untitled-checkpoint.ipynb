{
 "cells": [
  {
   "cell_type": "code",
   "execution_count": 115,
   "metadata": {
    "collapsed": true
   },
   "outputs": [],
   "source": [
    "import pandas as pd"
   ]
  },
  {
   "cell_type": "code",
   "execution_count": 116,
   "metadata": {
    "collapsed": true
   },
   "outputs": [],
   "source": [
    "df = pd.read_csv(\"training_data.csv\")\n",
    "df_test = pd.read_csv(\"test_data.csv\")"
   ]
  },
  {
   "cell_type": "code",
   "execution_count": 117,
   "metadata": {},
   "outputs": [],
   "source": [
    "# df = df[df[\" shares\"]<=400000]"
   ]
  },
  {
   "cell_type": "code",
   "execution_count": 118,
   "metadata": {},
   "outputs": [
    {
     "data": {
      "text/plain": [
       "Index(['url_id', ' timedelta', ' n_tokens_title', ' n_tokens_content',\n",
       "       ' n_unique_tokens', ' n_non_stop_words', ' n_non_stop_unique_tokens',\n",
       "       ' num_hrefs', ' num_self_hrefs', ' num_imgs', ' num_videos',\n",
       "       ' average_token_length', ' num_keywords', ' data_channel_is_lifestyle',\n",
       "       ' data_channel_is_entertainment', ' data_channel_is_bus',\n",
       "       ' data_channel_is_socmed', ' data_channel_is_tech',\n",
       "       ' data_channel_is_world', ' kw_min_min', ' kw_max_min', ' kw_avg_min',\n",
       "       ' kw_min_max', ' kw_max_max', ' kw_avg_max', ' kw_min_avg',\n",
       "       ' kw_max_avg', ' kw_avg_avg', ' self_reference_min_shares',\n",
       "       ' self_reference_max_shares', ' self_reference_avg_sharess',\n",
       "       ' weekday_is_monday', ' weekday_is_tuesday', ' weekday_is_wednesday',\n",
       "       ' weekday_is_thursday', ' weekday_is_friday', ' weekday_is_saturday',\n",
       "       ' weekday_is_sunday', ' is_weekend', ' LDA_00', ' LDA_01', ' LDA_02',\n",
       "       ' LDA_03', ' LDA_04', ' global_subjectivity',\n",
       "       ' global_sentiment_polarity', ' global_rate_positive_words',\n",
       "       ' global_rate_negative_words', ' rate_positive_words',\n",
       "       ' rate_negative_words', ' avg_positive_polarity',\n",
       "       ' min_positive_polarity', ' max_positive_polarity',\n",
       "       ' avg_negative_polarity', ' min_negative_polarity',\n",
       "       ' max_negative_polarity', ' title_subjectivity',\n",
       "       ' title_sentiment_polarity', ' abs_title_subjectivity',\n",
       "       ' abs_title_sentiment_polarity', ' shares'],\n",
       "      dtype='object')"
      ]
     },
     "execution_count": 118,
     "metadata": {},
     "output_type": "execute_result"
    }
   ],
   "source": [
    "df.columns"
   ]
  },
  {
   "cell_type": "code",
   "execution_count": 119,
   "metadata": {},
   "outputs": [
    {
     "data": {
      "text/html": [
       "<div>\n",
       "<style>\n",
       "    .dataframe thead tr:only-child th {\n",
       "        text-align: right;\n",
       "    }\n",
       "\n",
       "    .dataframe thead th {\n",
       "        text-align: left;\n",
       "    }\n",
       "\n",
       "    .dataframe tbody tr th {\n",
       "        vertical-align: top;\n",
       "    }\n",
       "</style>\n",
       "<table border=\"1\" class=\"dataframe\">\n",
       "  <thead>\n",
       "    <tr style=\"text-align: right;\">\n",
       "      <th></th>\n",
       "      <th>url_id</th>\n",
       "      <th>timedelta</th>\n",
       "      <th>n_tokens_title</th>\n",
       "      <th>n_tokens_content</th>\n",
       "      <th>n_unique_tokens</th>\n",
       "      <th>n_non_stop_words</th>\n",
       "      <th>n_non_stop_unique_tokens</th>\n",
       "      <th>num_hrefs</th>\n",
       "      <th>num_self_hrefs</th>\n",
       "      <th>num_imgs</th>\n",
       "      <th>...</th>\n",
       "      <th>min_positive_polarity</th>\n",
       "      <th>max_positive_polarity</th>\n",
       "      <th>avg_negative_polarity</th>\n",
       "      <th>min_negative_polarity</th>\n",
       "      <th>max_negative_polarity</th>\n",
       "      <th>title_subjectivity</th>\n",
       "      <th>title_sentiment_polarity</th>\n",
       "      <th>abs_title_subjectivity</th>\n",
       "      <th>abs_title_sentiment_polarity</th>\n",
       "      <th>shares</th>\n",
       "    </tr>\n",
       "  </thead>\n",
       "  <tbody>\n",
       "    <tr>\n",
       "      <th>count</th>\n",
       "      <td>28786.000000</td>\n",
       "      <td>28786.000000</td>\n",
       "      <td>28786.000000</td>\n",
       "      <td>28786.000000</td>\n",
       "      <td>28786.000000</td>\n",
       "      <td>28786.000000</td>\n",
       "      <td>28786.000000</td>\n",
       "      <td>28786.000000</td>\n",
       "      <td>28786.000000</td>\n",
       "      <td>28786.000000</td>\n",
       "      <td>...</td>\n",
       "      <td>28786.000000</td>\n",
       "      <td>28786.000000</td>\n",
       "      <td>28786.000000</td>\n",
       "      <td>28786.000000</td>\n",
       "      <td>28786.000000</td>\n",
       "      <td>28786.000000</td>\n",
       "      <td>28786.00000</td>\n",
       "      <td>28786.000000</td>\n",
       "      <td>28786.000000</td>\n",
       "      <td>28786.000000</td>\n",
       "    </tr>\n",
       "    <tr>\n",
       "      <th>mean</th>\n",
       "      <td>19878.678524</td>\n",
       "      <td>353.520635</td>\n",
       "      <td>10.403460</td>\n",
       "      <td>546.455082</td>\n",
       "      <td>0.555111</td>\n",
       "      <td>1.006600</td>\n",
       "      <td>0.695780</td>\n",
       "      <td>10.873063</td>\n",
       "      <td>3.301674</td>\n",
       "      <td>4.548496</td>\n",
       "      <td>...</td>\n",
       "      <td>0.095110</td>\n",
       "      <td>0.756500</td>\n",
       "      <td>-0.260026</td>\n",
       "      <td>-0.522700</td>\n",
       "      <td>-0.107939</td>\n",
       "      <td>0.282659</td>\n",
       "      <td>0.07220</td>\n",
       "      <td>0.341162</td>\n",
       "      <td>0.156628</td>\n",
       "      <td>3428.658549</td>\n",
       "    </tr>\n",
       "    <tr>\n",
       "      <th>std</th>\n",
       "      <td>11461.174637</td>\n",
       "      <td>214.420324</td>\n",
       "      <td>2.121334</td>\n",
       "      <td>470.409467</td>\n",
       "      <td>4.130828</td>\n",
       "      <td>6.138155</td>\n",
       "      <td>3.830214</td>\n",
       "      <td>11.155409</td>\n",
       "      <td>3.868232</td>\n",
       "      <td>8.342588</td>\n",
       "      <td>...</td>\n",
       "      <td>0.070577</td>\n",
       "      <td>0.247865</td>\n",
       "      <td>0.127850</td>\n",
       "      <td>0.290469</td>\n",
       "      <td>0.095253</td>\n",
       "      <td>0.323911</td>\n",
       "      <td>0.26614</td>\n",
       "      <td>0.189085</td>\n",
       "      <td>0.226958</td>\n",
       "      <td>12693.940388</td>\n",
       "    </tr>\n",
       "    <tr>\n",
       "      <th>min</th>\n",
       "      <td>1.000000</td>\n",
       "      <td>8.000000</td>\n",
       "      <td>2.000000</td>\n",
       "      <td>0.000000</td>\n",
       "      <td>0.000000</td>\n",
       "      <td>0.000000</td>\n",
       "      <td>0.000000</td>\n",
       "      <td>0.000000</td>\n",
       "      <td>0.000000</td>\n",
       "      <td>0.000000</td>\n",
       "      <td>...</td>\n",
       "      <td>0.000000</td>\n",
       "      <td>0.000000</td>\n",
       "      <td>-1.000000</td>\n",
       "      <td>-1.000000</td>\n",
       "      <td>-1.000000</td>\n",
       "      <td>0.000000</td>\n",
       "      <td>-1.00000</td>\n",
       "      <td>0.000000</td>\n",
       "      <td>0.000000</td>\n",
       "      <td>1.000000</td>\n",
       "    </tr>\n",
       "    <tr>\n",
       "      <th>25%</th>\n",
       "      <td>9916.250000</td>\n",
       "      <td>163.000000</td>\n",
       "      <td>9.000000</td>\n",
       "      <td>245.000000</td>\n",
       "      <td>0.470735</td>\n",
       "      <td>1.000000</td>\n",
       "      <td>0.625926</td>\n",
       "      <td>4.000000</td>\n",
       "      <td>1.000000</td>\n",
       "      <td>1.000000</td>\n",
       "      <td>...</td>\n",
       "      <td>0.050000</td>\n",
       "      <td>0.600000</td>\n",
       "      <td>-0.329167</td>\n",
       "      <td>-0.700000</td>\n",
       "      <td>-0.125000</td>\n",
       "      <td>0.000000</td>\n",
       "      <td>0.00000</td>\n",
       "      <td>0.166667</td>\n",
       "      <td>0.000000</td>\n",
       "      <td>940.250000</td>\n",
       "    </tr>\n",
       "    <tr>\n",
       "      <th>50%</th>\n",
       "      <td>19922.500000</td>\n",
       "      <td>337.000000</td>\n",
       "      <td>10.000000</td>\n",
       "      <td>410.000000</td>\n",
       "      <td>0.539302</td>\n",
       "      <td>1.000000</td>\n",
       "      <td>0.691043</td>\n",
       "      <td>8.000000</td>\n",
       "      <td>3.000000</td>\n",
       "      <td>1.000000</td>\n",
       "      <td>...</td>\n",
       "      <td>0.100000</td>\n",
       "      <td>0.800000</td>\n",
       "      <td>-0.253756</td>\n",
       "      <td>-0.500000</td>\n",
       "      <td>-0.100000</td>\n",
       "      <td>0.150000</td>\n",
       "      <td>0.00000</td>\n",
       "      <td>0.500000</td>\n",
       "      <td>0.000000</td>\n",
       "      <td>1400.000000</td>\n",
       "    </tr>\n",
       "    <tr>\n",
       "      <th>75%</th>\n",
       "      <td>29852.750000</td>\n",
       "      <td>542.000000</td>\n",
       "      <td>12.000000</td>\n",
       "      <td>716.000000</td>\n",
       "      <td>0.608527</td>\n",
       "      <td>1.000000</td>\n",
       "      <td>0.755155</td>\n",
       "      <td>14.000000</td>\n",
       "      <td>4.000000</td>\n",
       "      <td>4.000000</td>\n",
       "      <td>...</td>\n",
       "      <td>0.100000</td>\n",
       "      <td>1.000000</td>\n",
       "      <td>-0.187500</td>\n",
       "      <td>-0.300000</td>\n",
       "      <td>-0.050000</td>\n",
       "      <td>0.500000</td>\n",
       "      <td>0.15000</td>\n",
       "      <td>0.500000</td>\n",
       "      <td>0.250000</td>\n",
       "      <td>2800.000000</td>\n",
       "    </tr>\n",
       "    <tr>\n",
       "      <th>max</th>\n",
       "      <td>39643.000000</td>\n",
       "      <td>731.000000</td>\n",
       "      <td>23.000000</td>\n",
       "      <td>8474.000000</td>\n",
       "      <td>701.000000</td>\n",
       "      <td>1042.000000</td>\n",
       "      <td>650.000000</td>\n",
       "      <td>162.000000</td>\n",
       "      <td>74.000000</td>\n",
       "      <td>128.000000</td>\n",
       "      <td>...</td>\n",
       "      <td>1.000000</td>\n",
       "      <td>1.000000</td>\n",
       "      <td>0.000000</td>\n",
       "      <td>0.000000</td>\n",
       "      <td>0.000000</td>\n",
       "      <td>1.000000</td>\n",
       "      <td>1.00000</td>\n",
       "      <td>0.500000</td>\n",
       "      <td>1.000000</td>\n",
       "      <td>843300.000000</td>\n",
       "    </tr>\n",
       "  </tbody>\n",
       "</table>\n",
       "<p>8 rows × 61 columns</p>\n",
       "</div>"
      ],
      "text/plain": [
       "             url_id     timedelta   n_tokens_title   n_tokens_content  \\\n",
       "count  28786.000000  28786.000000     28786.000000       28786.000000   \n",
       "mean   19878.678524    353.520635        10.403460         546.455082   \n",
       "std    11461.174637    214.420324         2.121334         470.409467   \n",
       "min        1.000000      8.000000         2.000000           0.000000   \n",
       "25%     9916.250000    163.000000         9.000000         245.000000   \n",
       "50%    19922.500000    337.000000        10.000000         410.000000   \n",
       "75%    29852.750000    542.000000        12.000000         716.000000   \n",
       "max    39643.000000    731.000000        23.000000        8474.000000   \n",
       "\n",
       "        n_unique_tokens   n_non_stop_words   n_non_stop_unique_tokens  \\\n",
       "count      28786.000000       28786.000000               28786.000000   \n",
       "mean           0.555111           1.006600                   0.695780   \n",
       "std            4.130828           6.138155                   3.830214   \n",
       "min            0.000000           0.000000                   0.000000   \n",
       "25%            0.470735           1.000000                   0.625926   \n",
       "50%            0.539302           1.000000                   0.691043   \n",
       "75%            0.608527           1.000000                   0.755155   \n",
       "max          701.000000        1042.000000                 650.000000   \n",
       "\n",
       "          num_hrefs   num_self_hrefs      num_imgs      ...        \\\n",
       "count  28786.000000     28786.000000  28786.000000      ...         \n",
       "mean      10.873063         3.301674      4.548496      ...         \n",
       "std       11.155409         3.868232      8.342588      ...         \n",
       "min        0.000000         0.000000      0.000000      ...         \n",
       "25%        4.000000         1.000000      1.000000      ...         \n",
       "50%        8.000000         3.000000      1.000000      ...         \n",
       "75%       14.000000         4.000000      4.000000      ...         \n",
       "max      162.000000        74.000000    128.000000      ...         \n",
       "\n",
       "        min_positive_polarity   max_positive_polarity   avg_negative_polarity  \\\n",
       "count            28786.000000            28786.000000            28786.000000   \n",
       "mean                 0.095110                0.756500               -0.260026   \n",
       "std                  0.070577                0.247865                0.127850   \n",
       "min                  0.000000                0.000000               -1.000000   \n",
       "25%                  0.050000                0.600000               -0.329167   \n",
       "50%                  0.100000                0.800000               -0.253756   \n",
       "75%                  0.100000                1.000000               -0.187500   \n",
       "max                  1.000000                1.000000                0.000000   \n",
       "\n",
       "        min_negative_polarity   max_negative_polarity   title_subjectivity  \\\n",
       "count            28786.000000            28786.000000         28786.000000   \n",
       "mean                -0.522700               -0.107939             0.282659   \n",
       "std                  0.290469                0.095253             0.323911   \n",
       "min                 -1.000000               -1.000000             0.000000   \n",
       "25%                 -0.700000               -0.125000             0.000000   \n",
       "50%                 -0.500000               -0.100000             0.150000   \n",
       "75%                 -0.300000               -0.050000             0.500000   \n",
       "max                  0.000000                0.000000             1.000000   \n",
       "\n",
       "        title_sentiment_polarity   abs_title_subjectivity  \\\n",
       "count                28786.00000             28786.000000   \n",
       "mean                     0.07220                 0.341162   \n",
       "std                      0.26614                 0.189085   \n",
       "min                     -1.00000                 0.000000   \n",
       "25%                      0.00000                 0.166667   \n",
       "50%                      0.00000                 0.500000   \n",
       "75%                      0.15000                 0.500000   \n",
       "max                      1.00000                 0.500000   \n",
       "\n",
       "        abs_title_sentiment_polarity         shares  \n",
       "count                   28786.000000   28786.000000  \n",
       "mean                        0.156628    3428.658549  \n",
       "std                         0.226958   12693.940388  \n",
       "min                         0.000000       1.000000  \n",
       "25%                         0.000000     940.250000  \n",
       "50%                         0.000000    1400.000000  \n",
       "75%                         0.250000    2800.000000  \n",
       "max                         1.000000  843300.000000  \n",
       "\n",
       "[8 rows x 61 columns]"
      ]
     },
     "execution_count": 119,
     "metadata": {},
     "output_type": "execute_result"
    }
   ],
   "source": [
    "df.describe()"
   ]
  },
  {
   "cell_type": "code",
   "execution_count": 120,
   "metadata": {},
   "outputs": [],
   "source": [
    "X = df[[' timedelta', ' n_tokens_title', ' n_tokens_content',\n",
    "#        ' n_unique_tokens', ' n_non_stop_words', ' n_non_stop_unique_tokens',\n",
    "       ' num_hrefs', ' num_self_hrefs', ' num_imgs', ' num_videos',\n",
    "       ' average_token_length', ' num_keywords', ' data_channel_is_lifestyle',\n",
    "       ' data_channel_is_entertainment', ' data_channel_is_bus',\n",
    "       ' data_channel_is_socmed', ' data_channel_is_tech',\n",
    "       ' data_channel_is_world', ' kw_min_min', ' kw_max_min', ' kw_avg_min',\n",
    "       ' kw_min_max', ' kw_max_max', ' kw_avg_max', ' kw_min_avg',\n",
    "       ' kw_max_avg', ' kw_avg_avg', ' self_reference_min_shares',\n",
    "       ' self_reference_max_shares', ' self_reference_avg_sharess',\n",
    "       ' weekday_is_monday', ' weekday_is_tuesday', ' weekday_is_wednesday',\n",
    "       ' weekday_is_thursday', ' weekday_is_friday', ' weekday_is_saturday',\n",
    "       ' weekday_is_sunday', ' is_weekend', ' LDA_00', ' LDA_01', ' LDA_02',\n",
    "       ' LDA_03', ' LDA_04', ' global_subjectivity',\n",
    "       ' global_sentiment_polarity', ' global_rate_positive_words',\n",
    "       ' global_rate_negative_words', ' rate_positive_words',\n",
    "       ' rate_negative_words', ' avg_positive_polarity',\n",
    "       ' min_positive_polarity', ' max_positive_polarity',\n",
    "       ' avg_negative_polarity', ' min_negative_polarity',\n",
    "       ' max_negative_polarity', ' title_subjectivity',\n",
    "       ' title_sentiment_polarity', ' abs_title_subjectivity',\n",
    "       ' abs_title_sentiment_polarity']]"
   ]
  },
  {
   "cell_type": "code",
   "execution_count": 121,
   "metadata": {},
   "outputs": [
    {
     "data": {
      "image/png": "[encoded data removed]",
      "text/plain": [
       "<matplotlib.figure.Figure at 0x7f9142289940>"
      ]
     },
     "metadata": {},
     "output_type": "display_data"
    }
   ],
   "source": [
    "# X.corr()\n",
    "%matplotlib inline\n",
    "# plt.figure(figsize=(2000,1500)) \n",
    "# fig, ax1 = plt.subplots(figsize=(12,8),facecolor='w')\n",
    "plt.matshow(X.corr() )\n",
    "plt.savefig('foo.png')\n",
    "plt.show()\n"
   ]
  },
  {
   "cell_type": "code",
   "execution_count": 122,
   "metadata": {
    "collapsed": true
   },
   "outputs": [],
   "source": [
    "Y = df[[\" shares\"]]"
   ]
  },
  {
   "cell_type": "code",
   "execution_count": 123,
   "metadata": {
    "collapsed": true
   },
   "outputs": [],
   "source": [
    "import pandas\n",
    "import matplotlib.pyplot as plt\n",
    "from sklearn import model_selection\n",
    "from sklearn.linear_model import LogisticRegression\n",
    "from sklearn.tree import DecisionTreeClassifier\n",
    "from sklearn.neighbors import KNeighborsClassifier\n",
    "from sklearn.discriminant_analysis import LinearDiscriminantAnalysis\n",
    "from sklearn.naive_bayes import GaussianNB\n",
    "from sklearn.svm import SVC\n",
    "\n"
   ]
  },
  {
   "cell_type": "code",
   "execution_count": 124,
   "metadata": {
    "collapsed": true
   },
   "outputs": [],
   "source": [
    "from sklearn.model_selection import train_test_split\n",
    "from sklearn.metrics import r2_score"
   ]
  },
  {
   "cell_type": "code",
   "execution_count": 125,
   "metadata": {
    "collapsed": true
   },
   "outputs": [],
   "source": [
    "Xtrain, Xtest, Ytrain, Ytest = train_test_split(X,Y)"
   ]
  },
  {
   "cell_type": "code",
   "execution_count": 126,
   "metadata": {},
   "outputs": [
    {
     "data": {
      "image/png": "[encoded data removed]",
      "text/plain": [
       "<matplotlib.figure.Figure at 0x7f912b122438>"
      ]
     },
     "metadata": {},
     "output_type": "display_data"
    }
   ],
   "source": [
    "# s = 50\n",
    "# a = 0.4\n",
    "\n",
    "# plt.scatter(Xtrain, Ytrain[\" shares\"],edgecolor='k', c=\"navy\", s=s, marker=\"s\", alpha=a, label=\"Data\")\n",
    "# plt.show()\n",
    "\n",
    "# plt.plot(Xtrain, Ytrain[\" shares\"], 'ro')\n",
    "\n",
    "# plt.show()\n",
    "\n",
    "plt.plot(Xtrain, Ytrain, '.')\n",
    "plt.axis()\n",
    "plt.show()"
   ]
  },
  {
   "cell_type": "code",
   "execution_count": 127,
   "metadata": {
    "collapsed": true
   },
   "outputs": [],
   "source": [
    "from sklearn.model_selection import GridSearchCV\n",
    "import numpy as np\n"
   ]
  },
  {
   "cell_type": "code",
   "execution_count": 128,
   "metadata": {
    "collapsed": true
   },
   "outputs": [],
   "source": [
    "# param_grid = {'polynomialfeatures__degree': np.arange(21),\n",
    "#               'linearregression__fit_intercept': [True, False],\n",
    "#               'linearregression__normalize': [True, False]}"
   ]
  },
  {
   "cell_type": "code",
   "execution_count": 129,
   "metadata": {
    "collapsed": true
   },
   "outputs": [],
   "source": [
    "from sklearn.preprocessing import PolynomialFeatures\n",
    "from sklearn.linear_model import LinearRegression\n",
    "from sklearn.pipeline import make_pipeline\n",
    "\n",
    "# def PolynomialRegression(degree=2, **kwargs):\n",
    "#     return make_pipeline(PolynomialFeatures(degree),\n",
    "#                          LinearRegression(**kwargs))\n",
    "\n",
    "#Create a gridsearch with above grid values & CV 7 ( dev into 7 parts, 1 for test & 6 for train)\n",
    "# grid = GridSearchCV(PolynomialRegression(), param_grid, cv=7)"
   ]
  },
  {
   "cell_type": "markdown",
   "metadata": {},
   "source": [
    "# LinearRegression"
   ]
  },
  {
   "cell_type": "code",
   "execution_count": 130,
   "metadata": {
    "collapsed": true
   },
   "outputs": [],
   "source": [
    "LinearReg = LinearRegression()"
   ]
  },
  {
   "cell_type": "code",
   "execution_count": 131,
   "metadata": {},
   "outputs": [
    {
     "data": {
      "text/plain": [
       "LinearRegression(copy_X=True, fit_intercept=True, n_jobs=1, normalize=False)"
      ]
     },
     "execution_count": 131,
     "metadata": {},
     "output_type": "execute_result"
    }
   ],
   "source": [
    "LinearReg.fit(Xtrain, Ytrain)"
   ]
  },
  {
   "cell_type": "code",
   "execution_count": 132,
   "metadata": {},
   "outputs": [],
   "source": [
    "# for i in Ytrain[\" shares\"]:\n",
    "#     print(i)"
   ]
  },
  {
   "cell_type": "code",
   "execution_count": 133,
   "metadata": {},
   "outputs": [],
   "source": [
    "linear_pred = LinearReg.predict(Xtest)"
   ]
  },
  {
   "cell_type": "code",
   "execution_count": 134,
   "metadata": {},
   "outputs": [],
   "source": [
    "linear_pred_1 = LinearReg.predict(X_test_linear)\n",
    "\n"
   ]
  },
  {
   "cell_type": "code",
   "execution_count": 135,
   "metadata": {},
   "outputs": [],
   "source": [
    "df_test['predictions'] = LinearReg.predict(X_test_linear).tolist()\n",
    "df_test['shares'] = [round(np.abs(i[0]),0) for i in df_test['predictions']]\n",
    "df_submit = df_test[[\"url_id\",\"shares\"]]\n",
    "df_submit.to_csv(\"1st_submission.csv\",index=False)"
   ]
  },
  {
   "cell_type": "code",
   "execution_count": null,
   "metadata": {
    "collapsed": true
   },
   "outputs": [],
   "source": []
  },
  {
   "cell_type": "code",
   "execution_count": null,
   "metadata": {
    "collapsed": true
   },
   "outputs": [],
   "source": []
  },
  {
   "cell_type": "code",
   "execution_count": 136,
   "metadata": {
    "scrolled": true
   },
   "outputs": [
    {
     "data": {
      "text/html": [
       "<div>\n",
       "<style>\n",
       "    .dataframe thead tr:only-child th {\n",
       "        text-align: right;\n",
       "    }\n",
       "\n",
       "    .dataframe thead th {\n",
       "        text-align: left;\n",
       "    }\n",
       "\n",
       "    .dataframe tbody tr th {\n",
       "        vertical-align: top;\n",
       "    }\n",
       "</style>\n",
       "<table border=\"1\" class=\"dataframe\">\n",
       "  <thead>\n",
       "    <tr style=\"text-align: right;\">\n",
       "      <th></th>\n",
       "      <th>test_expected</th>\n",
       "    </tr>\n",
       "  </thead>\n",
       "  <tbody>\n",
       "    <tr>\n",
       "      <th>test_expected</th>\n",
       "      <td>1.0</td>\n",
       "    </tr>\n",
       "  </tbody>\n",
       "</table>\n",
       "</div>"
      ],
      "text/plain": [
       "               test_expected\n",
       "test_expected            1.0"
      ]
     },
     "execution_count": 136,
     "metadata": {},
     "output_type": "execute_result"
    }
   ],
   "source": [
    "df1 = pandas.DataFrame()\n",
    "df1[\"test_predicted\"] = linear_pred.tolist()\n",
    "df1[\"test_expected\"] = Ytest[\" shares\"].tolist()\n",
    "df1.corr()"
   ]
  },
  {
   "cell_type": "code",
   "execution_count": 137,
   "metadata": {
    "collapsed": true
   },
   "outputs": [],
   "source": [
    "import numpy as np\n",
    "\n",
    "def mean_absolute_percentage_error(y_true, y_pred): \n",
    "    y_true, y_pred = np.array(y_true), np.array(y_pred)\n",
    "    return np.mean(np.abs((y_true - y_pred) / y_true)) * 100\n",
    "# def mean_absolute_percentage_error(y_true, y_pred): \n",
    "#     y_true, y_pred = check_arrays(y_true, y_pred)\n",
    "\n",
    "#     ## Note: does not handle mix 1d representation\n",
    "#     #if _is_1d(y_true): \n",
    "#     #    y_true, y_pred = _check_1d_array(y_true, y_pred)\n",
    "\n",
    "#     return np.mean(np.abs((y_true - y_pred) / y_true)) * 100\n"
   ]
  },
  {
   "cell_type": "code",
   "execution_count": 139,
   "metadata": {},
   "outputs": [
    {
     "name": "stdout",
     "output_type": "stream",
     "text": [
      "180286.407175\n"
     ]
    }
   ],
   "source": [
    "with_linear_pred = mean_absolute_percentage_error(Ytest,linear_pred.tolist())\n",
    "print(with_linear_pred)\n"
   ]
  },
  {
   "cell_type": "markdown",
   "metadata": {},
   "source": [
    "# RandomForestRegressor"
   ]
  },
  {
   "cell_type": "code",
   "execution_count": 76,
   "metadata": {},
   "outputs": [
    {
     "name": "stderr",
     "output_type": "stream",
     "text": [
      "/home/kk/anaconda/lib/python3.6/site-packages/ipykernel_launcher.py:3: DataConversionWarning: A column-vector y was passed when a 1d array was expected. Please change the shape of y to (n_samples,), for example using ravel().\n",
      "  This is separate from the ipykernel package so we can avoid doing imports until\n"
     ]
    },
    {
     "data": {
      "text/plain": [
       "RandomForestRegressor(bootstrap=True, criterion='mse', max_depth=None,\n",
       "           max_features='auto', max_leaf_nodes=None,\n",
       "           min_impurity_decrease=0.0, min_impurity_split=None,\n",
       "           min_samples_leaf=20, min_samples_split=10,\n",
       "           min_weight_fraction_leaf=0.01, n_estimators=50, n_jobs=1,\n",
       "           oob_score=False, random_state=None, verbose=0, warm_start=False)"
      ]
     },
     "execution_count": 76,
     "metadata": {},
     "output_type": "execute_result"
    }
   ],
   "source": [
    "from sklearn.ensemble import RandomForestRegressor\n",
    "clr = RandomForestRegressor(min_samples_leaf=20, n_estimators=50, min_weight_fraction_leaf=0.01, min_samples_split=10)\n",
    "clr.fit(Xtrain, Ytrain)"
   ]
  },
  {
   "cell_type": "code",
   "execution_count": 77,
   "metadata": {},
   "outputs": [],
   "source": [
    "RF_pred = clr.predict(Xtest).tolist()\n",
    "\n",
    "# RF_pred = clr.predict(Xtest).tolist()"
   ]
  },
  {
   "cell_type": "code",
   "execution_count": 78,
   "metadata": {
    "scrolled": true
   },
   "outputs": [
    {
     "data": {
      "text/plain": [
       "111.97165006000543"
      ]
     },
     "execution_count": 78,
     "metadata": {},
     "output_type": "execute_result"
    }
   ],
   "source": [
    "# Ytest[\" shares\"].tolist()\n",
    "mean_absolute_percentage_error(RF_pred, Ytest)"
   ]
  },
  {
   "cell_type": "code",
   "execution_count": 79,
   "metadata": {},
   "outputs": [
    {
     "data": {
      "text/html": [
       "<div>\n",
       "<style>\n",
       "    .dataframe thead tr:only-child th {\n",
       "        text-align: right;\n",
       "    }\n",
       "\n",
       "    .dataframe thead th {\n",
       "        text-align: left;\n",
       "    }\n",
       "\n",
       "    .dataframe tbody tr th {\n",
       "        vertical-align: top;\n",
       "    }\n",
       "</style>\n",
       "<table border=\"1\" class=\"dataframe\">\n",
       "  <thead>\n",
       "    <tr style=\"text-align: right;\">\n",
       "      <th></th>\n",
       "      <th>test_predicted</th>\n",
       "      <th>test_expected</th>\n",
       "    </tr>\n",
       "  </thead>\n",
       "  <tbody>\n",
       "    <tr>\n",
       "      <th>test_predicted</th>\n",
       "      <td>1.000000</td>\n",
       "      <td>0.149354</td>\n",
       "    </tr>\n",
       "    <tr>\n",
       "      <th>test_expected</th>\n",
       "      <td>0.149354</td>\n",
       "      <td>1.000000</td>\n",
       "    </tr>\n",
       "  </tbody>\n",
       "</table>\n",
       "</div>"
      ],
      "text/plain": [
       "                test_predicted  test_expected\n",
       "test_predicted        1.000000       0.149354\n",
       "test_expected         0.149354       1.000000"
      ]
     },
     "execution_count": 79,
     "metadata": {},
     "output_type": "execute_result"
    }
   ],
   "source": [
    "df = pandas.DataFrame()\n",
    "df[\"test_predicted\"] = RF_pred\n",
    "df[\"test_expected\"] = Ytest[\" shares\"].tolist()\n",
    "df.corr()\n"
   ]
  },
  {
   "cell_type": "code",
   "execution_count": 80,
   "metadata": {},
   "outputs": [],
   "source": [
    "# df.plot(x =\"test_expected\", y=\"test_predicted\", kind=\"scatter\")\n",
    "# # plt.plot(x =Ytest[\" shares\"].tolist(), y= RF_pred, kind=\"scatter\")\n",
    "# plt.show()"
   ]
  },
  {
   "cell_type": "code",
   "execution_count": 82,
   "metadata": {},
   "outputs": [],
   "source": [
    "df_test['predictions'] = clr.predict(X_test_linear).tolist()\n",
    "# df_test['shares'] = [round(np.abs(i[0]),0) for i in df_test['predictions']]\n",
    "df_submit = df_test[[\"url_id\",\"shares\"]]\n",
    "df_submit.to_csv(\"RF_submission.csv\",index=False)"
   ]
  },
  {
   "cell_type": "code",
   "execution_count": 83,
   "metadata": {},
   "outputs": [
    {
     "data": {
      "text/html": [
       "<div>\n",
       "<style>\n",
       "    .dataframe thead tr:only-child th {\n",
       "        text-align: right;\n",
       "    }\n",
       "\n",
       "    .dataframe thead th {\n",
       "        text-align: left;\n",
       "    }\n",
       "\n",
       "    .dataframe tbody tr th {\n",
       "        vertical-align: top;\n",
       "    }\n",
       "</style>\n",
       "<table border=\"1\" class=\"dataframe\">\n",
       "  <thead>\n",
       "    <tr style=\"text-align: right;\">\n",
       "      <th></th>\n",
       "      <th>url_id</th>\n",
       "      <th>shares</th>\n",
       "    </tr>\n",
       "  </thead>\n",
       "  <tbody>\n",
       "    <tr>\n",
       "      <th>0</th>\n",
       "      <td>4</td>\n",
       "      <td>1362.0</td>\n",
       "    </tr>\n",
       "    <tr>\n",
       "      <th>1</th>\n",
       "      <td>11</td>\n",
       "      <td>92.0</td>\n",
       "    </tr>\n",
       "    <tr>\n",
       "      <th>2</th>\n",
       "      <td>15</td>\n",
       "      <td>58.0</td>\n",
       "    </tr>\n",
       "    <tr>\n",
       "      <th>3</th>\n",
       "      <td>20</td>\n",
       "      <td>924.0</td>\n",
       "    </tr>\n",
       "    <tr>\n",
       "      <th>4</th>\n",
       "      <td>26</td>\n",
       "      <td>1357.0</td>\n",
       "    </tr>\n",
       "    <tr>\n",
       "      <th>5</th>\n",
       "      <td>31</td>\n",
       "      <td>282.0</td>\n",
       "    </tr>\n",
       "    <tr>\n",
       "      <th>6</th>\n",
       "      <td>34</td>\n",
       "      <td>510.0</td>\n",
       "    </tr>\n",
       "    <tr>\n",
       "      <th>7</th>\n",
       "      <td>37</td>\n",
       "      <td>70.0</td>\n",
       "    </tr>\n",
       "    <tr>\n",
       "      <th>8</th>\n",
       "      <td>39</td>\n",
       "      <td>864.0</td>\n",
       "    </tr>\n",
       "    <tr>\n",
       "      <th>9</th>\n",
       "      <td>42</td>\n",
       "      <td>837.0</td>\n",
       "    </tr>\n",
       "    <tr>\n",
       "      <th>10</th>\n",
       "      <td>48</td>\n",
       "      <td>208.0</td>\n",
       "    </tr>\n",
       "    <tr>\n",
       "      <th>11</th>\n",
       "      <td>50</td>\n",
       "      <td>490.0</td>\n",
       "    </tr>\n",
       "    <tr>\n",
       "      <th>12</th>\n",
       "      <td>52</td>\n",
       "      <td>1362.0</td>\n",
       "    </tr>\n",
       "    <tr>\n",
       "      <th>13</th>\n",
       "      <td>54</td>\n",
       "      <td>1011.0</td>\n",
       "    </tr>\n",
       "    <tr>\n",
       "      <th>14</th>\n",
       "      <td>55</td>\n",
       "      <td>1132.0</td>\n",
       "    </tr>\n",
       "    <tr>\n",
       "      <th>15</th>\n",
       "      <td>59</td>\n",
       "      <td>573.0</td>\n",
       "    </tr>\n",
       "    <tr>\n",
       "      <th>16</th>\n",
       "      <td>70</td>\n",
       "      <td>1185.0</td>\n",
       "    </tr>\n",
       "    <tr>\n",
       "      <th>17</th>\n",
       "      <td>71</td>\n",
       "      <td>292.0</td>\n",
       "    </tr>\n",
       "    <tr>\n",
       "      <th>18</th>\n",
       "      <td>72</td>\n",
       "      <td>523.0</td>\n",
       "    </tr>\n",
       "    <tr>\n",
       "      <th>19</th>\n",
       "      <td>74</td>\n",
       "      <td>497.0</td>\n",
       "    </tr>\n",
       "    <tr>\n",
       "      <th>20</th>\n",
       "      <td>75</td>\n",
       "      <td>857.0</td>\n",
       "    </tr>\n",
       "    <tr>\n",
       "      <th>21</th>\n",
       "      <td>77</td>\n",
       "      <td>1988.0</td>\n",
       "    </tr>\n",
       "    <tr>\n",
       "      <th>22</th>\n",
       "      <td>79</td>\n",
       "      <td>173.0</td>\n",
       "    </tr>\n",
       "    <tr>\n",
       "      <th>23</th>\n",
       "      <td>82</td>\n",
       "      <td>1988.0</td>\n",
       "    </tr>\n",
       "    <tr>\n",
       "      <th>24</th>\n",
       "      <td>86</td>\n",
       "      <td>1172.0</td>\n",
       "    </tr>\n",
       "    <tr>\n",
       "      <th>25</th>\n",
       "      <td>93</td>\n",
       "      <td>1780.0</td>\n",
       "    </tr>\n",
       "    <tr>\n",
       "      <th>26</th>\n",
       "      <td>95</td>\n",
       "      <td>2783.0</td>\n",
       "    </tr>\n",
       "    <tr>\n",
       "      <th>27</th>\n",
       "      <td>98</td>\n",
       "      <td>2112.0</td>\n",
       "    </tr>\n",
       "    <tr>\n",
       "      <th>28</th>\n",
       "      <td>99</td>\n",
       "      <td>1842.0</td>\n",
       "    </tr>\n",
       "    <tr>\n",
       "      <th>29</th>\n",
       "      <td>102</td>\n",
       "      <td>1462.0</td>\n",
       "    </tr>\n",
       "    <tr>\n",
       "      <th>...</th>\n",
       "      <td>...</td>\n",
       "      <td>...</td>\n",
       "    </tr>\n",
       "    <tr>\n",
       "      <th>10828</th>\n",
       "      <td>39521</td>\n",
       "      <td>3779.0</td>\n",
       "    </tr>\n",
       "    <tr>\n",
       "      <th>10829</th>\n",
       "      <td>39526</td>\n",
       "      <td>5130.0</td>\n",
       "    </tr>\n",
       "    <tr>\n",
       "      <th>10830</th>\n",
       "      <td>39535</td>\n",
       "      <td>2644.0</td>\n",
       "    </tr>\n",
       "    <tr>\n",
       "      <th>10831</th>\n",
       "      <td>39547</td>\n",
       "      <td>5866.0</td>\n",
       "    </tr>\n",
       "    <tr>\n",
       "      <th>10832</th>\n",
       "      <td>39548</td>\n",
       "      <td>1876.0</td>\n",
       "    </tr>\n",
       "    <tr>\n",
       "      <th>10833</th>\n",
       "      <td>39552</td>\n",
       "      <td>1424.0</td>\n",
       "    </tr>\n",
       "    <tr>\n",
       "      <th>10834</th>\n",
       "      <td>39554</td>\n",
       "      <td>1765.0</td>\n",
       "    </tr>\n",
       "    <tr>\n",
       "      <th>10835</th>\n",
       "      <td>39562</td>\n",
       "      <td>3102.0</td>\n",
       "    </tr>\n",
       "    <tr>\n",
       "      <th>10836</th>\n",
       "      <td>39564</td>\n",
       "      <td>611.0</td>\n",
       "    </tr>\n",
       "    <tr>\n",
       "      <th>10837</th>\n",
       "      <td>39566</td>\n",
       "      <td>3166.0</td>\n",
       "    </tr>\n",
       "    <tr>\n",
       "      <th>10838</th>\n",
       "      <td>39575</td>\n",
       "      <td>2625.0</td>\n",
       "    </tr>\n",
       "    <tr>\n",
       "      <th>10839</th>\n",
       "      <td>39579</td>\n",
       "      <td>2406.0</td>\n",
       "    </tr>\n",
       "    <tr>\n",
       "      <th>10840</th>\n",
       "      <td>39584</td>\n",
       "      <td>670.0</td>\n",
       "    </tr>\n",
       "    <tr>\n",
       "      <th>10841</th>\n",
       "      <td>39586</td>\n",
       "      <td>2023.0</td>\n",
       "    </tr>\n",
       "    <tr>\n",
       "      <th>10842</th>\n",
       "      <td>39593</td>\n",
       "      <td>2092.0</td>\n",
       "    </tr>\n",
       "    <tr>\n",
       "      <th>10843</th>\n",
       "      <td>39597</td>\n",
       "      <td>5690.0</td>\n",
       "    </tr>\n",
       "    <tr>\n",
       "      <th>10844</th>\n",
       "      <td>39599</td>\n",
       "      <td>5544.0</td>\n",
       "    </tr>\n",
       "    <tr>\n",
       "      <th>10845</th>\n",
       "      <td>39602</td>\n",
       "      <td>6977.0</td>\n",
       "    </tr>\n",
       "    <tr>\n",
       "      <th>10846</th>\n",
       "      <td>39603</td>\n",
       "      <td>953.0</td>\n",
       "    </tr>\n",
       "    <tr>\n",
       "      <th>10847</th>\n",
       "      <td>39606</td>\n",
       "      <td>2005.0</td>\n",
       "    </tr>\n",
       "    <tr>\n",
       "      <th>10848</th>\n",
       "      <td>39610</td>\n",
       "      <td>404.0</td>\n",
       "    </tr>\n",
       "    <tr>\n",
       "      <th>10849</th>\n",
       "      <td>39613</td>\n",
       "      <td>1722.0</td>\n",
       "    </tr>\n",
       "    <tr>\n",
       "      <th>10850</th>\n",
       "      <td>39618</td>\n",
       "      <td>2401.0</td>\n",
       "    </tr>\n",
       "    <tr>\n",
       "      <th>10851</th>\n",
       "      <td>39620</td>\n",
       "      <td>2983.0</td>\n",
       "    </tr>\n",
       "    <tr>\n",
       "      <th>10852</th>\n",
       "      <td>39623</td>\n",
       "      <td>978.0</td>\n",
       "    </tr>\n",
       "    <tr>\n",
       "      <th>10853</th>\n",
       "      <td>39634</td>\n",
       "      <td>556.0</td>\n",
       "    </tr>\n",
       "    <tr>\n",
       "      <th>10854</th>\n",
       "      <td>39636</td>\n",
       "      <td>4102.0</td>\n",
       "    </tr>\n",
       "    <tr>\n",
       "      <th>10855</th>\n",
       "      <td>39637</td>\n",
       "      <td>4276.0</td>\n",
       "    </tr>\n",
       "    <tr>\n",
       "      <th>10856</th>\n",
       "      <td>39640</td>\n",
       "      <td>2250.0</td>\n",
       "    </tr>\n",
       "    <tr>\n",
       "      <th>10857</th>\n",
       "      <td>39644</td>\n",
       "      <td>861.0</td>\n",
       "    </tr>\n",
       "  </tbody>\n",
       "</table>\n",
       "<p>10858 rows × 2 columns</p>\n",
       "</div>"
      ],
      "text/plain": [
       "       url_id  shares\n",
       "0           4  1362.0\n",
       "1          11    92.0\n",
       "2          15    58.0\n",
       "3          20   924.0\n",
       "4          26  1357.0\n",
       "5          31   282.0\n",
       "6          34   510.0\n",
       "7          37    70.0\n",
       "8          39   864.0\n",
       "9          42   837.0\n",
       "10         48   208.0\n",
       "11         50   490.0\n",
       "12         52  1362.0\n",
       "13         54  1011.0\n",
       "14         55  1132.0\n",
       "15         59   573.0\n",
       "16         70  1185.0\n",
       "17         71   292.0\n",
       "18         72   523.0\n",
       "19         74   497.0\n",
       "20         75   857.0\n",
       "21         77  1988.0\n",
       "22         79   173.0\n",
       "23         82  1988.0\n",
       "24         86  1172.0\n",
       "25         93  1780.0\n",
       "26         95  2783.0\n",
       "27         98  2112.0\n",
       "28         99  1842.0\n",
       "29        102  1462.0\n",
       "...       ...     ...\n",
       "10828   39521  3779.0\n",
       "10829   39526  5130.0\n",
       "10830   39535  2644.0\n",
       "10831   39547  5866.0\n",
       "10832   39548  1876.0\n",
       "10833   39552  1424.0\n",
       "10834   39554  1765.0\n",
       "10835   39562  3102.0\n",
       "10836   39564   611.0\n",
       "10837   39566  3166.0\n",
       "10838   39575  2625.0\n",
       "10839   39579  2406.0\n",
       "10840   39584   670.0\n",
       "10841   39586  2023.0\n",
       "10842   39593  2092.0\n",
       "10843   39597  5690.0\n",
       "10844   39599  5544.0\n",
       "10845   39602  6977.0\n",
       "10846   39603   953.0\n",
       "10847   39606  2005.0\n",
       "10848   39610   404.0\n",
       "10849   39613  1722.0\n",
       "10850   39618  2401.0\n",
       "10851   39620  2983.0\n",
       "10852   39623   978.0\n",
       "10853   39634   556.0\n",
       "10854   39636  4102.0\n",
       "10855   39637  4276.0\n",
       "10856   39640  2250.0\n",
       "10857   39644   861.0\n",
       "\n",
       "[10858 rows x 2 columns]"
      ]
     },
     "execution_count": 83,
     "metadata": {},
     "output_type": "execute_result"
    }
   ],
   "source": [
    "df_submit"
   ]
  },
  {
   "cell_type": "code",
   "execution_count": 38,
   "metadata": {},
   "outputs": [],
   "source": []
  },
  {
   "cell_type": "code",
   "execution_count": null,
   "metadata": {},
   "outputs": [],
   "source": []
  },
  {
   "cell_type": "code",
   "execution_count": null,
   "metadata": {
    "collapsed": true
   },
   "outputs": [],
   "source": []
  },
  {
   "cell_type": "code",
   "execution_count": null,
   "metadata": {},
   "outputs": [],
   "source": []
  },
  {
   "cell_type": "code",
   "execution_count": 60,
   "metadata": {
    "collapsed": true
   },
   "outputs": [],
   "source": [
    "# def create_pipeline(degrees):\n",
    "#     pipeline = make_pipeline(PolynomialFeatures(degrees),LinearRegression(fit_intercept=True))\n",
    "#     return pipeline\n",
    "    "
   ]
  },
  {
   "cell_type": "code",
   "execution_count": 24,
   "metadata": {
    "collapsed": true
   },
   "outputs": [],
   "source": [
    "# models = []\n",
    "# for degree in range(2,20):\n",
    "#     #this will create a pipeline with mentioned degree & estimator as linear regression\n",
    "#     pipeline = create_pipeline(degree)\n",
    "#     pipeline.fit(Xtrain,Ytrain)\n",
    "#     pred = pipeline.predict(Xtest)\n",
    "#     print (r2_score(Ytest,pred))\n",
    "#     models.append([degree,r2_score(Ytest,pred),pipeline])\n",
    "    "
   ]
  },
  {
   "cell_type": "code",
   "execution_count": null,
   "metadata": {
    "collapsed": true
   },
   "outputs": [],
   "source": [
    "# lnr = LinearRegression()\n",
    "\n",
    "# from sklearn.linear_model import Perceptron\n",
    "# clf = Perceptron(fit_intercept=False, max_iter=10, tol=None, shuffle=False).fit(X, y)\n"
   ]
  },
  {
   "cell_type": "code",
   "execution_count": null,
   "metadata": {
    "collapsed": true
   },
   "outputs": [],
   "source": []
  },
  {
   "cell_type": "code",
   "execution_count": null,
   "metadata": {
    "collapsed": true
   },
   "outputs": [],
   "source": [
    "# lnr.fit(X,y)"
   ]
  },
  {
   "cell_type": "code",
   "execution_count": 50,
   "metadata": {
    "collapsed": true
   },
   "outputs": [],
   "source": [
    "X_test_linear = df_test[[' timedelta', ' n_tokens_title', ' n_tokens_content',\n",
    "#        ' n_unique_tokens', ' n_non_stop_words', ' n_non_stop_unique_tokens',\n",
    "       ' num_hrefs', ' num_self_hrefs', ' num_imgs', ' num_videos',\n",
    "       ' average_token_length', ' num_keywords', ' data_channel_is_lifestyle',\n",
    "       ' data_channel_is_entertainment', ' data_channel_is_bus',\n",
    "       ' data_channel_is_socmed', ' data_channel_is_tech',\n",
    "       ' data_channel_is_world', ' kw_min_min', ' kw_max_min', ' kw_avg_min',\n",
    "       ' kw_min_max', ' kw_max_max', ' kw_avg_max', ' kw_min_avg',\n",
    "       ' kw_max_avg', ' kw_avg_avg', ' self_reference_min_shares',\n",
    "       ' self_reference_max_shares', ' self_reference_avg_sharess',\n",
    "       ' weekday_is_monday', ' weekday_is_tuesday', ' weekday_is_wednesday',\n",
    "       ' weekday_is_thursday', ' weekday_is_friday', ' weekday_is_saturday',\n",
    "       ' weekday_is_sunday', ' is_weekend', ' LDA_00', ' LDA_01', ' LDA_02',\n",
    "       ' LDA_03', ' LDA_04', ' global_subjectivity',\n",
    "       ' global_sentiment_polarity', ' global_rate_positive_words',\n",
    "       ' global_rate_negative_words', ' rate_positive_words',\n",
    "       ' rate_negative_words', ' avg_positive_polarity',\n",
    "       ' min_positive_polarity', ' max_positive_polarity',\n",
    "       ' avg_negative_polarity', ' min_negative_polarity',\n",
    "       ' max_negative_polarity', ' title_subjectivity',\n",
    "       ' title_sentiment_polarity', ' abs_title_subjectivity',\n",
    "       ' abs_title_sentiment_polarity']]"
   ]
  },
  {
   "cell_type": "code",
   "execution_count": null,
   "metadata": {
    "collapsed": true
   },
   "outputs": [],
   "source": [
    "# X_test = PolynomialFeatures(interaction_only=True).fit_transform(X_test).astype(int)\n",
    "\n",
    "# kk= lnr.predict(X=X_test)"
   ]
  },
  {
   "cell_type": "code",
   "execution_count": 18,
   "metadata": {
    "collapsed": true
   },
   "outputs": [],
   "source": [
    "# grid.fit(X,y)"
   ]
  },
  {
   "cell_type": "code",
   "execution_count": null,
   "metadata": {},
   "outputs": [
    {
     "name": "stderr",
     "output_type": "stream",
     "text": [
      "/home/kk/anaconda/lib/python3.6/site-packages/sklearn/utils/validation.py:578: DataConversionWarning: A column-vector y was passed when a 1d array was expected. Please change the shape of y to (n_samples, ), for example using ravel().\n",
      "  y = column_or_1d(y, warn=True)\n",
      "/home/kk/anaconda/lib/python3.6/site-packages/sklearn/utils/validation.py:578: DataConversionWarning: A column-vector y was passed when a 1d array was expected. Please change the shape of y to (n_samples, ), for example using ravel().\n",
      "  y = column_or_1d(y, warn=True)\n",
      "/home/kk/anaconda/lib/python3.6/site-packages/sklearn/utils/validation.py:578: DataConversionWarning: A column-vector y was passed when a 1d array was expected. Please change the shape of y to (n_samples, ), for example using ravel().\n",
      "  y = column_or_1d(y, warn=True)\n",
      "/home/kk/anaconda/lib/python3.6/site-packages/sklearn/utils/validation.py:578: DataConversionWarning: A column-vector y was passed when a 1d array was expected. Please change the shape of y to (n_samples, ), for example using ravel().\n",
      "  y = column_or_1d(y, warn=True)\n",
      "/home/kk/anaconda/lib/python3.6/site-packages/sklearn/utils/validation.py:578: DataConversionWarning: A column-vector y was passed when a 1d array was expected. Please change the shape of y to (n_samples, ), for example using ravel().\n",
      "  y = column_or_1d(y, warn=True)\n",
      "/home/kk/anaconda/lib/python3.6/site-packages/sklearn/utils/validation.py:578: DataConversionWarning: A column-vector y was passed when a 1d array was expected. Please change the shape of y to (n_samples, ), for example using ravel().\n",
      "  y = column_or_1d(y, warn=True)\n",
      "/home/kk/anaconda/lib/python3.6/site-packages/sklearn/utils/validation.py:578: DataConversionWarning: A column-vector y was passed when a 1d array was expected. Please change the shape of y to (n_samples, ), for example using ravel().\n",
      "  y = column_or_1d(y, warn=True)\n"
     ]
    }
   ],
   "source": [
    "seed = 5\n",
    "\n",
    "models = []\n",
    "models.append(('LR', LogisticRegression()))\n",
    "models.append(('LDA', LinearDiscriminantAnalysis()))\n",
    "models.append(('KNN', KNeighborsClassifier()))\n",
    "models.append(('CART', DecisionTreeClassifier()))\n",
    "models.append(('NB', GaussianNB()))\n",
    "models.append(('SVM', SVC()))\n",
    "# evaluate each model in turn\n",
    "results = []\n",
    "names = []\n",
    "scoring = 'accuracy'\n",
    "for name, model in models:\n",
    "\tkfold = model_selection.KFold(n_splits=10, random_state=seed)\n",
    "\tcv_results = model_selection.cross_val_score(model, X, Y, cv=kfold, scoring=scoring)\n",
    "\tresults.append(cv_results)\n",
    "\tnames.append(name)\n",
    "\tmsg = \"%s: %f (%f)\" % (name, cv_results.mean(), cv_results.std())\n",
    "\tprint(msg)\n",
    "# boxplot algorithm comparison\n",
    "fig = plt.figure()\n",
    "fig.suptitle('Algorithm Comparison')\n",
    "ax = fig.add_subplot(111)\n",
    "plt.boxplot(results)\n",
    "ax.set_xticklabels(names)\n",
    "plt.show()"
   ]
  },
  {
   "cell_type": "code",
   "execution_count": null,
   "metadata": {
    "collapsed": true
   },
   "outputs": [],
   "source": [
    "from sklearn.utils import check_arrays\n",
    "def mean_absolute_percentage_error(y_true, y_pred): \n",
    "    y_true, y_pred = check_arrays(y_true, y_pred)\n",
    "\n",
    "    ## Note: does not handle mix 1d representation\n",
    "    #if _is_1d(y_true): \n",
    "    #    y_true, y_pred = _check_1d_array(y_true, y_pred)\n",
    "\n",
    "    return np.mean(np.abs((y_true - y_pred) / y_true)) * 100"
   ]
  },
  {
   "cell_type": "code",
   "execution_count": null,
   "metadata": {
    "collapsed": true
   },
   "outputs": [],
   "source": []
  },
  {
   "cell_type": "code",
   "execution_count": null,
   "metadata": {
    "collapsed": true
   },
   "outputs": [],
   "source": [
    "# grid.best_params_"
   ]
  },
  {
   "cell_type": "code",
   "execution_count": null,
   "metadata": {
    "collapsed": true
   },
   "outputs": [],
   "source": []
  }
 ],
 "metadata": {
  "kernelspec": {
   "display_name": "Python 3",
   "language": "python",
   "name": "python3"
  },
  "language_info": {
   "codemirror_mode": {
    "name": "ipython",
    "version": 3
   },
   "file_extension": ".py",
   "mimetype": "text/x-python",
   "name": "python",
   "nbconvert_exporter": "python",
   "pygments_lexer": "ipython3",
   "version": "3.6.3"
  }
 },
 "nbformat": 4,
 "nbformat_minor": 2
}
